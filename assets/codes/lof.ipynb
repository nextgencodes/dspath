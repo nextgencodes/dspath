{
 "cells": [
  {
   "cell_type": "code",
   "execution_count": 65,
   "id": "e3117e04-b6d2-46d4-92db-f31965189dec",
   "metadata": {},
   "outputs": [],
   "source": [
    "import numpy as np\n",
    "import pandas as pd\n",
    "from sklearn.neighbors import LocalOutlierFactor\n",
    "from sklearn.preprocessing import StandardScaler\n",
    "import matplotlib.pyplot as plt"
   ]
  },
  {
   "cell_type": "code",
   "execution_count": 76,
   "id": "2e9eabf0-c839-42af-b9d3-c8d615a9b7aa",
   "metadata": {},
   "outputs": [
    {
     "name": "stdout",
     "output_type": "stream",
     "text": [
      "Original Data:\n",
      "    feature_A  feature_B\n",
      "0         10         20\n",
      "1         12         22\n",
      "2         15         25\n",
      "3         11         21\n",
      "4         13         23\n",
      "5         30          5\n",
      "6         12         24\n",
      "7         14         26\n",
      "8         11         21\n",
      "9         12         22\n"
     ]
    }
   ],
   "source": [
    "# 1. Create Dummy Data\n",
    "data = pd.DataFrame({\n",
    "    'feature_A': [10, 12, 15, 11, 13, 30, 12, 14, 11, 12],\n",
    "    'feature_B': [20, 22, 25, 21, 23, 5,  24, 26, 21, 22]\n",
    "})\n",
    "print(\"Original Data:\\n\", data)"
   ]
  },
  {
   "cell_type": "code",
   "execution_count": 77,
   "id": "4ab576f0-c886-422d-a47c-4352aaedeee7",
   "metadata": {},
   "outputs": [
    {
     "name": "stdout",
     "output_type": "stream",
     "text": [
      "\n",
      "Scaled Data:\n",
      "    feature_A  feature_B\n",
      "0  -0.725476  -0.160894\n",
      "1  -0.362738   0.196648\n",
      "2   0.181369   0.732961\n",
      "3  -0.544107   0.017877\n",
      "4  -0.181369   0.375419\n",
      "5   2.901905  -2.842460\n",
      "6  -0.362738   0.554190\n",
      "7   0.000000   0.911732\n",
      "8  -0.544107   0.017877\n",
      "9  -0.362738   0.196648\n"
     ]
    }
   ],
   "source": [
    "# 2. Scale the Data\n",
    "scaler = StandardScaler()\n",
    "scaled_data = scaler.fit_transform(data)\n",
    "scaled_df = pd.DataFrame(scaled_data, columns=data.columns) # To keep column names\n",
    "print(\"\\nScaled Data:\\n\", scaled_df)\n",
    "\n",
    "# 3. Initialize and Fit the LOF Model\n",
    "lof = LocalOutlierFactor(n_neighbors=5, contamination='auto') # n_neighbors and contamination are hyperparameters\n",
    "predictions = lof.fit_predict(scaled_data)"
   ]
  },
  {
   "cell_type": "code",
   "execution_count": 78,
   "id": "c72c1c9f-e3d7-436c-9081-cc6e3dd65a03",
   "metadata": {},
   "outputs": [
    {
     "data": {
      "text/plain": [
       "<Axes: xlabel='feature_A', ylabel='feature_B'>"
      ]
     },
     "execution_count": 78,
     "metadata": {},
     "output_type": "execute_result"
    },
    {
     "data": {
      "image/png": "[encoded data removed]",
      "text/plain": [
       "<Figure size 640x480 with 1 Axes>"
      ]
     },
     "metadata": {},
     "output_type": "display_data"
    }
   ],
   "source": [
    "# Plotting points\n",
    "data.plot(x='feature_A', y='feature_B',kind='scatter')"
   ]
  },
  {
   "cell_type": "code",
   "execution_count": 79,
   "id": "c7c381ee-ad3b-47ca-8d10-c98a258c5796",
   "metadata": {},
   "outputs": [
    {
     "name": "stdout",
     "output_type": "stream",
     "text": [
      "\n",
      "Predictions (1=inlier, -1=outlier):\n",
      " [ 1  1  1  1  1 -1  1  1  1  1]\n",
      "\n",
      "LOF Scores (Negative values, lower is more outlier-like):\n",
      " [-1.149262   -0.99496812 -1.31154321 -1.00304495 -0.92098627 -9.16275904\n",
      " -1.00411144 -1.35056634 -1.00304495 -0.99496812]\n"
     ]
    }
   ],
   "source": [
    "# 4. Analyze the Output\n",
    "print(\"\\nPredictions (1=inlier, -1=outlier):\\n\", predictions)\n",
    "\n",
    "lof_scores = lof.negative_outlier_factor_ # Note: It's negative LOF\n",
    "print(\"\\nLOF Scores (Negative values, lower is more outlier-like):\\n\", lof_scores)"
   ]
  },
  {
   "cell_type": "code",
   "execution_count": 80,
   "id": "94c6377f-3759-4010-a445-1663ee8a7e66",
   "metadata": {},
   "outputs": [
    {
     "name": "stdout",
     "output_type": "stream",
     "text": [
      "\n",
      "Data with LOF Scores and Labels:\n",
      "    feature_A  feature_B  LOF_Score  Outlier_Label\n",
      "0         10         20  -1.149262              1\n",
      "1         12         22  -0.994968              1\n",
      "2         15         25  -1.311543              1\n",
      "3         11         21  -1.003045              1\n",
      "4         13         23  -0.920986              1\n",
      "5         30          5  -9.162759             -1\n",
      "6         12         24  -1.004111              1\n",
      "7         14         26  -1.350566              1\n",
      "8         11         21  -1.003045              1\n",
      "9         12         22  -0.994968              1\n",
      "\n",
      "Identified Outliers:\n",
      "    feature_A  feature_B  LOF_Score  Outlier_Label\n",
      "5         30          5  -9.162759             -1\n"
     ]
    }
   ],
   "source": [
    "outlier_df = data.copy()\n",
    "outlier_df['LOF_Score'] = lof_scores\n",
    "outlier_df['Outlier_Label'] = predictions\n",
    "print(\"\\nData with LOF Scores and Labels:\\n\", outlier_df)\n",
    "\n",
    "# Identify and Print Outliers\n",
    "outliers = outlier_df[outlier_df['Outlier_Label'] == -1]\n",
    "print(\"\\nIdentified Outliers:\\n\", outliers)"
   ]
  },
  {
   "cell_type": "code",
   "execution_count": 81,
   "id": "3f07b90a-f580-4791-a8b6-6da1cb909f62",
   "metadata": {},
   "outputs": [
    {
     "data": {
      "text/plain": [
       "<matplotlib.collections.PathCollection at 0x16cd0d8ab80>"
      ]
     },
     "execution_count": 81,
     "metadata": {},
     "output_type": "execute_result"
    },
    {
     "data": {
      "image/png": "[encoded data removed]",
      "text/plain": [
       "<Figure size 640x480 with 1 Axes>"
      ]
     },
     "metadata": {},
     "output_type": "display_data"
    }
   ],
   "source": [
    "## plotting prediction\n",
    "data.plot(x='feature_A', y='feature_B',kind='scatter')\n",
    "plt.scatter(x=outliers.to_numpy()[0][0], y=outliers.to_numpy()[0][1], color='red')"
   ]
  },
  {
   "cell_type": "code",
   "execution_count": 50,
   "id": "16df3129-731b-4aa7-adf9-fd2463db4671",
   "metadata": {},
   "outputs": [
    {
     "name": "stdout",
     "output_type": "stream",
     "text": [
      "\n",
      "LOF model and scaler saved to disk.\n"
     ]
    }
   ],
   "source": [
    "# 5. Saving and Loading the Model (and Scaler) for Later Use\n",
    "\n",
    "# --- Saving ---\n",
    "import joblib # Or use 'pickle' library\n",
    "\n",
    "# Save the LOF model\n",
    "joblib.dump(lof, 'lof_model.joblib')\n",
    "\n",
    "# Save the scaler as well (important for transforming new data later)\n",
    "joblib.dump(scaler, 'scaler.joblib')\n",
    "print(\"\\nLOF model and scaler saved to disk.\")\n",
    "\n",
    "# --- Loading ---\n",
    "# loaded_lof = joblib.load('lof_model.joblib')\n",
    "# loaded_scaler = joblib.load('scaler.joblib')\n",
    "# print(\"\\nLOF model and scaler loaded from disk.\")"
   ]
  },
  {
   "cell_type": "code",
   "execution_count": 55,
   "id": "dc51af1b-910a-4bcc-b604-38c391158df2",
   "metadata": {},
   "outputs": [
    {
     "name": "stdout",
     "output_type": "stream",
     "text": [
      "\n",
      "Feature analysis of outliers:\n",
      "\n",
      "Outlier at index 5:\n",
      "  - Feature 'feature_A': Value = 30.00, Mean (Inliers) = 12.22, Z-score = 11.37\n",
      "  - Feature 'feature_B': Value = 5.00, Mean (Inliers) = 22.67, Z-score = -8.83\n"
     ]
    }
   ],
   "source": [
    "# ... (code from previous implementation example) ...\n",
    "\n",
    "# Analyze feature values of outliers\n",
    "inlier_indices = [0, 1, 2, 3, 4, 6, 7, 8, 9]\n",
    "print(\"\\nFeature analysis of outliers:\")\n",
    "for index, outlier_row in outliers.iterrows():\n",
    "    print(f\"\\nOutlier at index {index}:\")\n",
    "    for feature in data.columns:\n",
    "        outlier_value = outlier_row[feature]\n",
    "        feature_mean_inliers = data[data.index.isin(inlier_indices)][feature].mean() #Indices of inliers could be tracked during prediction\n",
    "        feature_std_inliers = data[data.index.isin(inlier_indices)][feature].std()\n",
    "        z_score = (outlier_value - feature_mean_inliers) / feature_std_inliers if feature_std_inliers != 0 else 0 # Z-score: how many std deviations away from mean\n",
    "\n",
    "        print(f\"  - Feature '{feature}': Value = {outlier_value:.2f}, Mean (Inliers) = {feature_mean_inliers:.2f}, Z-score = {z_score:.2f}\")"
   ]
  },
  {
   "cell_type": "code",
   "execution_count": 60,
   "id": "32f794f9-917e-4bbb-894c-1145f1cf97af",
   "metadata": {},
   "outputs": [
    {
     "name": "stdout",
     "output_type": "stream",
     "text": [
      "\n",
      "Hyperparameter Exploration Results:\n",
      "\n",
      "--- n_neighbors=3, contamination='auto' ---\n",
      "Number of outliers identified: 3\n",
      "Outlier indices: [2 5 7]\n",
      "\n",
      "--- n_neighbors=3, contamination='0.05' ---\n",
      "Number of outliers identified: 1\n",
      "Outlier indices: [5]\n",
      "\n",
      "--- n_neighbors=5, contamination='auto' ---\n",
      "Number of outliers identified: 1\n",
      "Outlier indices: [5]\n",
      "\n",
      "--- n_neighbors=5, contamination='0.05' ---\n",
      "Number of outliers identified: 1\n",
      "Outlier indices: [5]\n",
      "\n",
      "--- n_neighbors=7, contamination='auto' ---\n",
      "Number of outliers identified: 1\n",
      "Outlier indices: [5]\n",
      "\n",
      "--- n_neighbors=7, contamination='0.05' ---\n",
      "Number of outliers identified: 1\n",
      "Outlier indices: [5]\n"
     ]
    }
   ],
   "source": [
    "# ... (previous code setup) ...\n",
    "\n",
    "n_neighbors_values = [3, 5, 7] # Values to test\n",
    "contamination_values = ['auto', 0.05] # Values to test\n",
    "\n",
    "print(\"\\nHyperparameter Exploration Results:\")\n",
    "for n_neighbors_val in n_neighbors_values:\n",
    "    for contamination_val in contamination_values:\n",
    "        lof_tuned = LocalOutlierFactor(n_neighbors=n_neighbors_val, contamination=contamination_val)\n",
    "        predictions_tuned = lof_tuned.fit_predict(scaled_data)\n",
    "        lof_scores_tuned = lof_tuned.negative_outlier_factor_\n",
    "\n",
    "        outlier_indices_tuned = np.where(predictions_tuned == -1)[0]\n",
    "        num_outliers = len(outlier_indices_tuned)\n",
    "\n",
    "        print(f\"\\n--- n_neighbors={n_neighbors_val}, contamination='{contamination_val}' ---\")\n",
    "        print(f\"Number of outliers identified: {num_outliers}\")\n",
    "        print(\"Outlier indices:\", outlier_indices_tuned)\n",
    "        # You would add visual inspection or proxy metric calculation here for more systematic evaluation"
   ]
  },
  {
   "cell_type": "code",
   "execution_count": 72,
   "id": "240d900b-95d2-4522-a388-e5f81e536f66",
   "metadata": {},
   "outputs": [
    {
     "data": {
      "text/plain": [
       "array([-1.149262  , -0.99496812, -1.31154321, -1.00304495, -0.92098627,\n",
       "       -9.16275904, -1.00411144, -1.35056634, -1.00304495, -0.99496812])"
      ]
     },
     "execution_count": 72,
     "metadata": {},
     "output_type": "execute_result"
    }
   ],
   "source": [
    "lof_scores"
   ]
  },
  {
   "cell_type": "code",
   "execution_count": 85,
   "id": "f4832f9d-ed19-41bc-9312-34dc09bb1b66",
   "metadata": {},
   "outputs": [
    {
     "name": "stdout",
     "output_type": "stream",
     "text": [
      "ROC AUC: 0.0000\n",
      "\n",
      "Confusion Matrix:\n",
      " [[1 0]\n",
      " [0 9]]\n",
      "\n",
      "Classification Report:\n",
      "               precision    recall  f1-score   support\n",
      "\n",
      "          -1       1.00      1.00      1.00         1\n",
      "           1       1.00      1.00      1.00         9\n",
      "\n",
      "    accuracy                           1.00        10\n",
      "   macro avg       1.00      1.00      1.00        10\n",
      "weighted avg       1.00      1.00      1.00        10\n",
      "\n"
     ]
    }
   ],
   "source": [
    "from sklearn.metrics import roc_auc_score, roc_curve, confusion_matrix, classification_report\n",
    "\n",
    "# Assume 'ground_truth_labels' is a numpy array or list of 0s (inliers) and 1s (outliers)\n",
    "# ... (run LOF and get lof_scores) ...\n",
    "\n",
    "ground_truth_labels = [1,1,1,1,1,-1,1,1,1,1]\n",
    "\n",
    "# ROC AUC\n",
    "roc_auc = roc_auc_score(ground_truth_labels, -lof_scores) # Invert LOF scores for ROC curve direction\n",
    "print(f\"ROC AUC: {roc_auc:.4f}\")\n",
    "\n",
    "# ROC Curve\n",
    "fpr, tpr, thresholds = roc_curve(ground_truth_labels, -lof_scores)\n",
    "# ... (code to plot ROC curve if needed) ...\n",
    "\n",
    "# Confusion Matrix (with a threshold on LOF score to classify as outlier)\n",
    "threshold_score = -1.5 # Example threshold - needs to be chosen based on score distribution\n",
    "predicted_labels_threshold = np.where(lof_scores < threshold_score, -1, 1) # 1 for outlier, 0 for inlier\n",
    "\n",
    "conf_matrix = confusion_matrix(ground_truth_labels, predicted_labels_threshold)\n",
    "print(\"\\nConfusion Matrix:\\n\", conf_matrix)\n",
    "print(\"\\nClassification Report:\\n\", classification_report(ground_truth_labels, predicted_labels_threshold))"
   ]
  },
  {
   "cell_type": "code",
   "execution_count": null,
   "id": "46e4da34-0d4a-4280-a5ec-3dd97bd4607f",
   "metadata": {},
   "outputs": [],
   "source": []
  }
 ],
 "metadata": {
  "kernelspec": {
   "display_name": "Python 3 (ipykernel)",
   "language": "python",
   "name": "python3"
  },
  "language_info": {
   "codemirror_mode": {
    "name": "ipython",
    "version": 3
   },
   "file_extension": ".py",
   "mimetype": "text/x-python",
   "name": "python",
   "nbconvert_exporter": "python",
   "pygments_lexer": "ipython3",
   "version": "3.9.18"
  }
 },
 "nbformat": 4,
 "nbformat_minor": 5
}
