{
 "cells": [
  {
   "cell_type": "code",
   "execution_count": 1,
   "id": "7faba315-3f37-41a5-84f8-1a4f38af4678",
   "metadata": {},
   "outputs": [],
   "source": [
    "import numpy as np\n",
    "import pandas as pd\n",
    "from sklearn.neighbors import KNeighborsClassifier\n",
    "from sklearn.model_selection import train_test_split\n",
    "from sklearn.preprocessing import StandardScaler\n",
    "from sklearn.metrics import accuracy_score\n",
    "import joblib # For saving and loading models\n"
   ]
  },
  {
   "cell_type": "code",
   "execution_count": 2,
   "id": "0f37e0a3-bc2c-4d8c-94f6-c6754bd2dea2",
   "metadata": {},
   "outputs": [
    {
     "name": "stdout",
     "output_type": "stream",
     "text": [
      "Original Data:\n",
      "    feature_X  feature_Y  target_class\n",
      "0        2.0        3.0             0\n",
      "1        3.0        4.0             0\n",
      "2        4.0        5.0             0\n",
      "3        5.0        6.0             0\n",
      "4        6.0        7.0             0\n",
      "5        2.5        3.5             1\n",
      "6        3.5        4.5             1\n",
      "7        4.5        5.5             1\n",
      "8        5.5        6.5             1\n",
      "9        6.5        7.5             1\n"
     ]
    }
   ],
   "source": [
    "# 1. Create Dummy Data (Classification Task)\n",
    "data = pd.DataFrame({\n",
    "    'feature_X': [2, 3, 4, 5, 6, 2.5, 3.5, 4.5, 5.5, 6.5],\n",
    "    'feature_Y': [3, 4, 5, 6, 7, 3.5, 4.5, 5.5, 6.5, 7.5],\n",
    "    'target_class': [0, 0, 0, 0, 0, 1, 1, 1, 1, 1] # 0 and 1 represent two classes\n",
    "})\n",
    "print(\"Original Data:\\n\", data)\n"
   ]
  },
  {
   "cell_type": "code",
   "execution_count": 3,
   "id": "af0c2c4d-0975-431c-acc1-82dc4f93ec52",
   "metadata": {},
   "outputs": [
    {
     "name": "stdout",
     "output_type": "stream",
     "text": [
      "\n",
      "Predictions on Test Set:\n",
      " [0 0 0]\n"
     ]
    }
   ],
   "source": [
    "# 2. Split Data into Features (X) and Target (y)\n",
    "X = data[['feature_X', 'feature_Y']]\n",
    "y = data['target_class']\n",
    "\n",
    "# 3. Split Data into Training and Testing Sets\n",
    "X_train, X_test, y_train, y_test = train_test_split(X, y, test_size=0.3, random_state=42) # 30% for testing\n",
    "\n",
    "# 4. Feature Scaling (StandardScaler)\n",
    "scaler = StandardScaler()\n",
    "X_train_scaled = scaler.fit_transform(X_train) # Fit on training data, then transform\n",
    "X_test_scaled = scaler.transform(X_test)      # Transform test data using fitted scaler\n",
    "\n",
    "# 5. Initialize and Train KNN Classifier\n",
    "knn_classifier = KNeighborsClassifier(n_neighbors=3) # Hyperparameter: k=3\n",
    "knn_classifier.fit(X_train_scaled, y_train)\n",
    "\n",
    "# 6. Make Predictions on Test Set\n",
    "y_pred = knn_classifier.predict(X_test_scaled)\n",
    "print(\"\\nPredictions on Test Set:\\n\", y_pred)"
   ]
  },
  {
   "cell_type": "code",
   "execution_count": 6,
   "id": "e30f2673-996a-4870-a822-754610b3c281",
   "metadata": {},
   "outputs": [
    {
     "name": "stdout",
     "output_type": "stream",
     "text": [
      "\n",
      "Accuracy on Test Set: 0.33\n"
     ]
    }
   ],
   "source": [
    "# 7. Evaluate Accuracy\n",
    "accuracy = accuracy_score(y_test, y_pred)\n",
    "print(f\"\\nAccuracy on Test Set: {accuracy:.2f}\") # Output: 0.67 in this example"
   ]
  },
  {
   "cell_type": "code",
   "execution_count": 7,
   "id": "ede9bc7c-16b3-414f-9601-c988a9e6c458",
   "metadata": {
    "scrolled": true
   },
   "outputs": [
    {
     "name": "stdout",
     "output_type": "stream",
     "text": [
      "\n",
      "Predicted Probabilities (for each class):\n",
      " [[0.66666667 0.33333333]\n",
      " [0.66666667 0.33333333]\n",
      " [0.66666667 0.33333333]]\n"
     ]
    }
   ],
   "source": [
    "y_prob = knn_classifier.predict_proba(X_test_scaled)\n",
    "print(\"\\nPredicted Probabilities (for each class):\\n\", y_prob)"
   ]
  },
  {
   "cell_type": "code",
   "execution_count": 8,
   "id": "b32189ce-07d5-458e-8721-5032a10045e6",
   "metadata": {},
   "outputs": [
    {
     "name": "stdout",
     "output_type": "stream",
     "text": [
      "\n",
      "KNN model and scaler saved to disk.\n"
     ]
    }
   ],
   "source": [
    "# --- Saving ---\n",
    "joblib.dump(knn_classifier, 'knn_model.joblib') # Save KNN model\n",
    "joblib.dump(scaler, 'scaler.joblib')           # Save scaler\n",
    "print(\"\\nKNN model and scaler saved to disk.\")"
   ]
  },
  {
   "cell_type": "code",
   "execution_count": null,
   "id": "2405135c-d144-4c33-ac6c-99b262676869",
   "metadata": {},
   "outputs": [],
   "source": [
    "#--- Loading ---\n",
    "loaded_knn_model = joblib.load('knn_model.joblib')\n",
    "loaded_scaler = joblib.load('scaler.joblib')\n",
    "print(\"\\nKNN model and scaler loaded from disk.\")"
   ]
  },
  {
   "cell_type": "code",
   "execution_count": null,
   "id": "6d73df18-faf9-4696-9515-715549f4e8f7",
   "metadata": {},
   "outputs": [],
   "source": [
    "\n",
    "\n",
    "y_prob = knn_classifier.predict_proba(X_test_scaled)\n",
    "print(\"\\nPredicted Probabilities (for each class):\\n\", y_prob)\n",
    "# Output format: [[prob_class0, prob_class1], ...] for each test sample\n",
    "\n",
    "# There is no 'r-value' output directly from KNN in the sense of correlation or regression.\n",
    "# The 'output' in classification is primarily the predicted class labels and/or probabilities.\n",
    "# In regression (using KNeighborsRegressor), the output would be the predicted continuous value.\n",
    "\n",
    "# 9. Saving and Loading the Model (and Scaler) for Later Use\n",
    "\n",
    "# --- Saving ---\n",
    "joblib.dump(knn_classifier, 'knn_model.joblib') # Save KNN model\n",
    "joblib.dump(scaler, 'scaler.joblib')           # Save scaler\n",
    "print(\"\\nKNN model and scaler saved to disk.\")\n",
    "\n",
    "# --- Loading ---\n",
    "# loaded_knn_model = joblib.load('knn_model.joblib')\n",
    "# loaded_scaler = joblib.load('scaler.joblib')\n",
    "# print(\"\\nKNN model and scaler loaded from disk.\")\n",
    "\n",
    "# You can now use loaded_knn_model to make predictions on new scaled data"
   ]
  }
 ],
 "metadata": {
  "kernelspec": {
   "display_name": "Python 3 (ipykernel)",
   "language": "python",
   "name": "python3"
  },
  "language_info": {
   "codemirror_mode": {
    "name": "ipython",
    "version": 3
   },
   "file_extension": ".py",
   "mimetype": "text/x-python",
   "name": "python",
   "nbconvert_exporter": "python",
   "pygments_lexer": "ipython3",
   "version": "3.9.18"
  }
 },
 "nbformat": 4,
 "nbformat_minor": 5
}
