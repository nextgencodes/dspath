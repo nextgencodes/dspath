{
 "cells": [
  {
   "cell_type": "code",
   "execution_count": 200,
   "id": "8fbd5568-37c5-4847-8843-1619eb308c87",
   "metadata": {},
   "outputs": [],
   "source": [
    "import pandas as pd\n",
    "from pyECLAT import ECLAT"
   ]
  },
  {
   "cell_type": "code",
   "execution_count": 261,
   "id": "f86c157d-007d-4495-9eef-a18f58bf9089",
   "metadata": {},
   "outputs": [],
   "source": [
    "# Dummy transactional data\n",
    "transactions = pd.DataFrame( [\n",
    "    ['Bread', 'Milk'],\n",
    "    ['Bread', 'Diaper', 'Beer'],\n",
    "    ['Milk', 'Diaper', 'Beer'],\n",
    "    ['Bread', 'Milk']\n",
    "])"
   ]
  },
  {
   "cell_type": "code",
   "execution_count": 262,
   "id": "28452d57-8a79-46ea-99f6-c995d70be4bc",
   "metadata": {},
   "outputs": [
    {
     "data": {
      "text/html": [
       "<div>\n",
       "<style scoped>\n",
       "    .dataframe tbody tr th:only-of-type {\n",
       "        vertical-align: middle;\n",
       "    }\n",
       "\n",
       "    .dataframe tbody tr th {\n",
       "        vertical-align: top;\n",
       "    }\n",
       "\n",
       "    .dataframe thead th {\n",
       "        text-align: right;\n",
       "    }\n",
       "</style>\n",
       "<table border=\"1\" class=\"dataframe\">\n",
       "  <thead>\n",
       "    <tr style=\"text-align: right;\">\n",
       "      <th></th>\n",
       "      <th>0</th>\n",
       "      <th>1</th>\n",
       "      <th>2</th>\n",
       "    </tr>\n",
       "  </thead>\n",
       "  <tbody>\n",
       "    <tr>\n",
       "      <th>0</th>\n",
       "      <td>Bread</td>\n",
       "      <td>Milk</td>\n",
       "      <td>None</td>\n",
       "    </tr>\n",
       "    <tr>\n",
       "      <th>1</th>\n",
       "      <td>Bread</td>\n",
       "      <td>Diaper</td>\n",
       "      <td>Beer</td>\n",
       "    </tr>\n",
       "    <tr>\n",
       "      <th>2</th>\n",
       "      <td>Milk</td>\n",
       "      <td>Diaper</td>\n",
       "      <td>Beer</td>\n",
       "    </tr>\n",
       "    <tr>\n",
       "      <th>3</th>\n",
       "      <td>Bread</td>\n",
       "      <td>Milk</td>\n",
       "      <td>None</td>\n",
       "    </tr>\n",
       "  </tbody>\n",
       "</table>\n",
       "</div>"
      ],
      "text/plain": [
       "       0       1     2\n",
       "0  Bread    Milk  None\n",
       "1  Bread  Diaper  Beer\n",
       "2   Milk  Diaper  Beer\n",
       "3  Bread    Milk  None"
      ]
     },
     "execution_count": 262,
     "metadata": {},
     "output_type": "execute_result"
    }
   ],
   "source": [
    "transactions"
   ]
  },
  {
   "cell_type": "code",
   "execution_count": 202,
   "id": "89e76512-c9f8-423c-8510-4b0a4dcf8970",
   "metadata": {},
   "outputs": [
    {
     "data": {
      "text/html": [
       "<div>\n",
       "<style scoped>\n",
       "    .dataframe tbody tr th:only-of-type {\n",
       "        vertical-align: middle;\n",
       "    }\n",
       "\n",
       "    .dataframe tbody tr th {\n",
       "        vertical-align: top;\n",
       "    }\n",
       "\n",
       "    .dataframe thead th {\n",
       "        text-align: right;\n",
       "    }\n",
       "</style>\n",
       "<table border=\"1\" class=\"dataframe\">\n",
       "  <thead>\n",
       "    <tr style=\"text-align: right;\">\n",
       "      <th></th>\n",
       "      <th>Beer</th>\n",
       "      <th>None</th>\n",
       "      <th>Milk</th>\n",
       "      <th>Diaper</th>\n",
       "      <th>Bread</th>\n",
       "    </tr>\n",
       "  </thead>\n",
       "  <tbody>\n",
       "    <tr>\n",
       "      <th>0</th>\n",
       "      <td>0</td>\n",
       "      <td>0</td>\n",
       "      <td>1</td>\n",
       "      <td>0</td>\n",
       "      <td>1</td>\n",
       "    </tr>\n",
       "    <tr>\n",
       "      <th>1</th>\n",
       "      <td>1</td>\n",
       "      <td>0</td>\n",
       "      <td>0</td>\n",
       "      <td>1</td>\n",
       "      <td>1</td>\n",
       "    </tr>\n",
       "    <tr>\n",
       "      <th>2</th>\n",
       "      <td>1</td>\n",
       "      <td>0</td>\n",
       "      <td>1</td>\n",
       "      <td>1</td>\n",
       "      <td>0</td>\n",
       "    </tr>\n",
       "    <tr>\n",
       "      <th>3</th>\n",
       "      <td>0</td>\n",
       "      <td>0</td>\n",
       "      <td>1</td>\n",
       "      <td>0</td>\n",
       "      <td>1</td>\n",
       "    </tr>\n",
       "  </tbody>\n",
       "</table>\n",
       "</div>"
      ],
      "text/plain": [
       "   Beer  None  Milk  Diaper  Bread\n",
       "0     0     0     1       0      1\n",
       "1     1     0     0       1      1\n",
       "2     1     0     1       1      0\n",
       "3     0     0     1       0      1"
      ]
     },
     "execution_count": 202,
     "metadata": {},
     "output_type": "execute_result"
    }
   ],
   "source": [
    "# Run Eclat\n",
    "eclat = ECLAT(data=transactions)\n",
    "#Binarizing Data Frame\n",
    "eclat.df_bin"
   ]
  },
  {
   "cell_type": "code",
   "execution_count": 203,
   "id": "8c472fbc-a835-4236-b992-50f2e03516b8",
   "metadata": {},
   "outputs": [
    {
     "data": {
      "text/plain": [
       "0    2\n",
       "1    3\n",
       "2    3\n",
       "3    2\n",
       "dtype: int64"
      ]
     },
     "execution_count": 203,
     "metadata": {},
     "output_type": "execute_result"
    }
   ],
   "source": [
    "# count items in each column\n",
    "items_total = eclat.df_bin.astype(int).sum(axis=0)\n",
    "items_total\n",
    "\n",
    "# count items in each row\n",
    "items_per_transaction = eclat.df_bin.astype(int).sum(axis=1)\n",
    "items_per_transaction"
   ]
  },
  {
   "cell_type": "code",
   "execution_count": 204,
   "id": "417e24d0-6555-4427-b008-de66559c500e",
   "metadata": {},
   "outputs": [
    {
     "data": {
      "text/html": [
       "<style type=\"text/css\">\n",
       "#T_d6cd8_row0_col1, #T_d6cd8_row1_col1 {\n",
       "  background-color: #08306b;\n",
       "  color: #f1f1f1;\n",
       "}\n",
       "#T_d6cd8_row2_col1, #T_d6cd8_row3_col1 {\n",
       "  background-color: #3787c0;\n",
       "  color: #f1f1f1;\n",
       "}\n",
       "#T_d6cd8_row4_col1 {\n",
       "  background-color: #f7fbff;\n",
       "  color: #000000;\n",
       "}\n",
       "</style>\n",
       "<table id=\"T_d6cd8\">\n",
       "  <thead>\n",
       "    <tr>\n",
       "      <th class=\"blank level0\" >&nbsp;</th>\n",
       "      <th id=\"T_d6cd8_level0_col0\" class=\"col_heading level0 col0\" >items</th>\n",
       "      <th id=\"T_d6cd8_level0_col1\" class=\"col_heading level0 col1\" >transactions</th>\n",
       "    </tr>\n",
       "  </thead>\n",
       "  <tbody>\n",
       "    <tr>\n",
       "      <th id=\"T_d6cd8_level0_row0\" class=\"row_heading level0 row0\" >2</th>\n",
       "      <td id=\"T_d6cd8_row0_col0\" class=\"data row0 col0\" >Milk</td>\n",
       "      <td id=\"T_d6cd8_row0_col1\" class=\"data row0 col1\" >3</td>\n",
       "    </tr>\n",
       "    <tr>\n",
       "      <th id=\"T_d6cd8_level0_row1\" class=\"row_heading level0 row1\" >4</th>\n",
       "      <td id=\"T_d6cd8_row1_col0\" class=\"data row1 col0\" >Bread</td>\n",
       "      <td id=\"T_d6cd8_row1_col1\" class=\"data row1 col1\" >3</td>\n",
       "    </tr>\n",
       "    <tr>\n",
       "      <th id=\"T_d6cd8_level0_row2\" class=\"row_heading level0 row2\" >0</th>\n",
       "      <td id=\"T_d6cd8_row2_col0\" class=\"data row2 col0\" >Beer</td>\n",
       "      <td id=\"T_d6cd8_row2_col1\" class=\"data row2 col1\" >2</td>\n",
       "    </tr>\n",
       "    <tr>\n",
       "      <th id=\"T_d6cd8_level0_row3\" class=\"row_heading level0 row3\" >3</th>\n",
       "      <td id=\"T_d6cd8_row3_col0\" class=\"data row3 col0\" >Diaper</td>\n",
       "      <td id=\"T_d6cd8_row3_col1\" class=\"data row3 col1\" >2</td>\n",
       "    </tr>\n",
       "    <tr>\n",
       "      <th id=\"T_d6cd8_level0_row4\" class=\"row_heading level0 row4\" >1</th>\n",
       "      <td id=\"T_d6cd8_row4_col0\" class=\"data row4 col0\" >None</td>\n",
       "      <td id=\"T_d6cd8_row4_col1\" class=\"data row4 col1\" >0</td>\n",
       "    </tr>\n",
       "  </tbody>\n",
       "</table>\n"
      ],
      "text/plain": [
       "<pandas.io.formats.style.Styler at 0x22b05bb0c10>"
      ]
     },
     "execution_count": 204,
     "metadata": {},
     "output_type": "execute_result"
    }
   ],
   "source": [
    "# Loading items per column stats to the DataFrame\n",
    "df = pd.DataFrame({'items': items_total.index, 'transactions': items_total.values}) \n",
    "# cloning pandas DataFrame for visualization purpose  \n",
    "df_table = df.sort_values(\"transactions\", ascending=False)\n",
    "#  Top 5 most popular products/items\n",
    "df_table.head(5).style.background_gradient(cmap='Blues')"
   ]
  },
  {
   "cell_type": "code",
   "execution_count": 205,
   "id": "5df81844-641c-4597-af3a-4caad694b2d3",
   "metadata": {},
   "outputs": [],
   "source": [
    "# to have a same origin\n",
    "df_table[\"all\"] = \"Tree Map\" "
   ]
  },
  {
   "cell_type": "code",
   "execution_count": 206,
   "id": "9d973c24-7cba-42f1-8432-916f3736c465",
   "metadata": {},
   "outputs": [
    {
     "name": "stdout",
     "output_type": "stream",
     "text": [
      "Combination 2 by 2\n"
     ]
    },
    {
     "name": "stderr",
     "output_type": "stream",
     "text": [
      "6it [00:00, 96.98it/s]\n"
     ]
    },
    {
     "name": "stdout",
     "output_type": "stream",
     "text": [
      "Combination 3 by 3\n"
     ]
    },
    {
     "name": "stderr",
     "output_type": "stream",
     "text": [
      "4it [00:00, 87.88it/s]\n"
     ]
    }
   ],
   "source": [
    "# the item shoud appear at least at 5% of transactions\n",
    "min_support = 5/100\n",
    "# start from transactions containing at least 2 items\n",
    "min_combination = 2\n",
    "# up to maximum items per transaction\n",
    "max_combination = max(items_per_transaction)\n",
    "rule_indices, rule_supports = eclat.fit(min_support=min_support,\n",
    "                                                 min_combination=min_combination,\n",
    "                                                 max_combination=max_combination,\n",
    "                                                 separator=' & ',\n",
    "                                                 verbose=True)"
   ]
  },
  {
   "cell_type": "code",
   "execution_count": 207,
   "id": "d35a5a9a-d79e-421e-9a64-0d1c0db43724",
   "metadata": {
    "scrolled": true
   },
   "outputs": [
    {
     "data": {
      "text/html": [
       "<div>\n",
       "<style scoped>\n",
       "    .dataframe tbody tr th:only-of-type {\n",
       "        vertical-align: middle;\n",
       "    }\n",
       "\n",
       "    .dataframe tbody tr th {\n",
       "        vertical-align: top;\n",
       "    }\n",
       "\n",
       "    .dataframe thead th {\n",
       "        text-align: right;\n",
       "    }\n",
       "</style>\n",
       "<table border=\"1\" class=\"dataframe\">\n",
       "  <thead>\n",
       "    <tr style=\"text-align: right;\">\n",
       "      <th></th>\n",
       "      <th>Item</th>\n",
       "      <th>Support</th>\n",
       "    </tr>\n",
       "  </thead>\n",
       "  <tbody>\n",
       "    <tr>\n",
       "      <th>1</th>\n",
       "      <td>Beer &amp; Diaper</td>\n",
       "      <td>0.50</td>\n",
       "    </tr>\n",
       "    <tr>\n",
       "      <th>4</th>\n",
       "      <td>Milk &amp; Bread</td>\n",
       "      <td>0.50</td>\n",
       "    </tr>\n",
       "    <tr>\n",
       "      <th>2</th>\n",
       "      <td>Beer &amp; Bread</td>\n",
       "      <td>0.25</td>\n",
       "    </tr>\n",
       "    <tr>\n",
       "      <th>0</th>\n",
       "      <td>Beer &amp; Milk</td>\n",
       "      <td>0.25</td>\n",
       "    </tr>\n",
       "    <tr>\n",
       "      <th>3</th>\n",
       "      <td>Milk &amp; Diaper</td>\n",
       "      <td>0.25</td>\n",
       "    </tr>\n",
       "    <tr>\n",
       "      <th>5</th>\n",
       "      <td>Diaper &amp; Bread</td>\n",
       "      <td>0.25</td>\n",
       "    </tr>\n",
       "    <tr>\n",
       "      <th>6</th>\n",
       "      <td>Beer &amp; Milk &amp; Diaper</td>\n",
       "      <td>0.25</td>\n",
       "    </tr>\n",
       "    <tr>\n",
       "      <th>7</th>\n",
       "      <td>Beer &amp; Diaper &amp; Bread</td>\n",
       "      <td>0.25</td>\n",
       "    </tr>\n",
       "  </tbody>\n",
       "</table>\n",
       "</div>"
      ],
      "text/plain": [
       "                    Item  Support\n",
       "1          Beer & Diaper     0.50\n",
       "4           Milk & Bread     0.50\n",
       "2           Beer & Bread     0.25\n",
       "0            Beer & Milk     0.25\n",
       "3          Milk & Diaper     0.25\n",
       "5         Diaper & Bread     0.25\n",
       "6   Beer & Milk & Diaper     0.25\n",
       "7  Beer & Diaper & Bread     0.25"
      ]
     },
     "execution_count": 207,
     "metadata": {},
     "output_type": "execute_result"
    }
   ],
   "source": [
    "result = pd.DataFrame(rule_supports.items(),columns=['Item', 'Support'])\n",
    "result.sort_values(by=['Support'], ascending=False)"
   ]
  },
  {
   "cell_type": "code",
   "execution_count": 1,
   "id": "cf83ec23-9d4b-4678-8097-b39159f129d7",
   "metadata": {},
   "outputs": [
    {
     "ename": "NameError",
     "evalue": "name 'requests' is not defined",
     "output_type": "error",
     "traceback": [
      "\u001b[1;31m---------------------------------------------------------------------------\u001b[0m",
      "\u001b[1;31mNameError\u001b[0m                                 Traceback (most recent call last)",
      "Cell \u001b[1;32mIn[1], line 9\u001b[0m\n\u001b[0;32m      1\u001b[0m transactions \u001b[38;5;241m=\u001b[39m [\n\u001b[0;32m      2\u001b[0m     [\u001b[38;5;124m'\u001b[39m\u001b[38;5;124mBread\u001b[39m\u001b[38;5;124m'\u001b[39m, \u001b[38;5;124m'\u001b[39m\u001b[38;5;124mMilk\u001b[39m\u001b[38;5;124m'\u001b[39m],\n\u001b[0;32m      3\u001b[0m     [\u001b[38;5;124m'\u001b[39m\u001b[38;5;124mBread\u001b[39m\u001b[38;5;124m'\u001b[39m, \u001b[38;5;124m'\u001b[39m\u001b[38;5;124mDiaper\u001b[39m\u001b[38;5;124m'\u001b[39m, \u001b[38;5;124m'\u001b[39m\u001b[38;5;124mBeer\u001b[39m\u001b[38;5;124m'\u001b[39m],\n\u001b[0;32m      4\u001b[0m     [\u001b[38;5;124m'\u001b[39m\u001b[38;5;124mMilk\u001b[39m\u001b[38;5;124m'\u001b[39m, \u001b[38;5;124m'\u001b[39m\u001b[38;5;124mDiaper\u001b[39m\u001b[38;5;124m'\u001b[39m, \u001b[38;5;124m'\u001b[39m\u001b[38;5;124mBeer\u001b[39m\u001b[38;5;124m'\u001b[39m],\n\u001b[0;32m      5\u001b[0m     [\u001b[38;5;124m'\u001b[39m\u001b[38;5;124mBread\u001b[39m\u001b[38;5;124m'\u001b[39m, \u001b[38;5;124m'\u001b[39m\u001b[38;5;124mMilk\u001b[39m\u001b[38;5;124m'\u001b[39m]\n\u001b[0;32m      6\u001b[0m ]\n\u001b[0;32m      7\u001b[0m \u001b[38;5;28;01mimport\u001b[39;00m\u001b[38;5;250m \u001b[39m\u001b[38;5;21;01mjson\u001b[39;00m\n\u001b[1;32m----> 9\u001b[0m r \u001b[38;5;241m=\u001b[39m \u001b[43mrequests\u001b[49m\u001b[38;5;241m.\u001b[39mpost(\u001b[38;5;124m'\u001b[39m\u001b[38;5;124mhttp://127.0.0.1:5000/predict\u001b[39m\u001b[38;5;124m'\u001b[39m,data\u001b[38;5;241m=\u001b[39mjson\u001b[38;5;241m.\u001b[39mdumps({\u001b[38;5;124m\"\u001b[39m\u001b[38;5;124mdata\u001b[39m\u001b[38;5;124m\"\u001b[39m:transactions})) \u001b[38;5;66;03m#json.dumps(transactions))\u001b[39;00m\n\u001b[0;32m     10\u001b[0m r\u001b[38;5;241m.\u001b[39mtext\n",
      "\u001b[1;31mNameError\u001b[0m: name 'requests' is not defined"
     ]
    }
   ],
   "source": [
    "import requests\n",
    "import json\n",
    "transactions = [\n",
    "    ['Bread', 'Milk'],\n",
    "    ['Bread', 'Diaper', 'Beer'],\n",
    "    ['Milk', 'Diaper', 'Beer'],\n",
    "    ['Bread', 'Milk']\n",
    "]\n",
    "r = requests.post('http://127.0.0.1:5000/predict',data=json.dumps({\"data\":transactions})) #json.dumps(transactions))\n",
    "r.text"
   ]
  },
  {
   "cell_type": "code",
   "execution_count": null,
   "id": "dbe035f0-e8f4-4358-9bdf-735fe65f3e6b",
   "metadata": {},
   "outputs": [],
   "source": []
  }
 ],
 "metadata": {
  "kernelspec": {
   "display_name": "Python 3 (ipykernel)",
   "language": "python",
   "name": "python3"
  },
  "language_info": {
   "codemirror_mode": {
    "name": "ipython",
    "version": 3
   },
   "file_extension": ".py",
   "mimetype": "text/x-python",
   "name": "python",
   "nbconvert_exporter": "python",
   "pygments_lexer": "ipython3",
   "version": "3.9.18"
  }
 },
 "nbformat": 4,
 "nbformat_minor": 5
}
