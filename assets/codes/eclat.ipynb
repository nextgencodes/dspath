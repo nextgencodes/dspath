{
 "cells": [
  {
   "cell_type": "code",
   "execution_count": 200,
   "id": "8fbd5568-37c5-4847-8843-1619eb308c87",
   "metadata": {},
   "outputs": [],
   "source": [
    "import pandas as pd\n",
    "from pyECLAT import ECLAT"
   ]
  },
  {
   "cell_type": "code",
   "execution_count": 261,
   "id": "f86c157d-007d-4495-9eef-a18f58bf9089",
   "metadata": {},
   "outputs": [],
   "source": [
    "# Dummy transactional data\n",
    "transactions = pd.DataFrame( [\n",
    "    ['Bread', 'Milk'],\n",
    "    ['Bread', 'Diaper', 'Beer'],\n",
    "    ['Milk', 'Diaper', 'Beer'],\n",
    "    ['Bread', 'Milk']\n",
    "])"
   ]
  },
  {
   "cell_type": "code",
   "execution_count": 262,
   "id": "28452d57-8a79-46ea-99f6-c995d70be4bc",
   "metadata": {},
   "outputs": [
    {
     "data": {
      "text/html": [
       "<div>\n",
       "<style scoped>\n",
       "    .dataframe tbody tr th:only-of-type {\n",
       "        vertical-align: middle;\n",
       "    }\n",
       "\n",
       "    .dataframe tbody tr th {\n",
       "        vertical-align: top;\n",
       "    }\n",
       "\n",
       "    .dataframe thead th {\n",
       "        text-align: right;\n",
       "    }\n",
       "</style>\n",
       "<table border=\"1\" class=\"dataframe\">\n",
       "  <thead>\n",
       "    <tr style=\"text-align: right;\">\n",
       "      <th></th>\n",
       "      <th>0</th>\n",
       "      <th>1</th>\n",
       "      <th>2</th>\n",
       "    </tr>\n",
       "  </thead>\n",
       "  <tbody>\n",
       "    <tr>\n",
       "      <th>0</th>\n",
       "      <td>Bread</td>\n",
       "      <td>Milk</td>\n",
       "      <td>None</td>\n",
       "    </tr>\n",
       "    <tr>\n",
       "      <th>1</th>\n",
       "      <td>Bread</td>\n",
       "      <td>Diaper</td>\n",
       "      <td>Beer</td>\n",
       "    </tr>\n",
       "    <tr>\n",
       "      <th>2</th>\n",
       "      <td>Milk</td>\n",
       "      <td>Diaper</td>\n",
       "      <td>Beer</td>\n",
       "    </tr>\n",
       "    <tr>\n",
       "      <th>3</th>\n",
       "      <td>Bread</td>\n",
       "      <td>Milk</td>\n",
       "      <td>None</td>\n",
       "    </tr>\n",
       "  </tbody>\n",
       "</table>\n",
       "</div>"
      ],
      "text/plain": [
       "       0       1     2\n",
       "0  Bread    Milk  None\n",
       "1  Bread  Diaper  Beer\n",
       "2   Milk  Diaper  Beer\n",
       "3  Bread    Milk  None"
      ]
     },
     "execution_count": 262,
     "metadata": {},
     "output_type": "execute_result"
    }
   ],
   "source": [
    "transactions"
   ]
  },
  {
   "cell_type": "code",
   "execution_count": 202,
   "id": "89e76512-c9f8-423c-8510-4b0a4dcf8970",
   "metadata": {},
   "outputs": [
    {
     "data": {
      "text/html": [
       "<div>\n",
       "<style scoped>\n",
       "    .dataframe tbody tr th:only-of-type {\n",
       "        vertical-align: middle;\n",
       "    }\n",
       "\n",
       "    .dataframe tbody tr th {\n",
       "        vertical-align: top;\n",
       "    }\n",
       "\n",
       "    .dataframe thead th {\n",
       "        text-align: right;\n",
       "    }\n",
       "</style>\n",
       "<table border=\"1\" class=\"dataframe\">\n",
       "  <thead>\n",
       "    <tr style=\"text-align: right;\">\n",
       "      <th></th>\n",
       "      <th>Beer</th>\n",
       "      <th>None</th>\n",
       "      <th>Milk</th>\n",
       "      <th>Diaper</th>\n",
       "      <th>Bread</th>\n",
       "    </tr>\n",
       "  </thead>\n",
       "  <tbody>\n",
       "    <tr>\n",
       "      <th>0</th>\n",
       "      <td>0</td>\n",
       "      <td>0</td>\n",
       "      <td>1</td>\n",
       "      <td>0</td>\n",
       "      <td>1</td>\n",
       "    </tr>\n",
       "    <tr>\n",
       "      <th>1</th>\n",
       "      <td>1</td>\n",
       "      <td>0</td>\n",
       "      <td>0</td>\n",
       "      <td>1</td>\n",
       "      <td>1</td>\n",
       "    </tr>\n",
       "    <tr>\n",
       "      <th>2</th>\n",
       "      <td>1</td>\n",
       "      <td>0</td>\n",
       "      <td>1</td>\n",
       "      <td>1</td>\n",
       "      <td>0</td>\n",
       "    </tr>\n",
       "    <tr>\n",
       "      <th>3</th>\n",
       "      <td>0</td>\n",
       "      <td>0</td>\n",
       "      <td>1</td>\n",
       "      <td>0</td>\n",
       "      <td>1</td>\n",
       "    </tr>\n",
       "  </tbody>\n",
       "</table>\n",
       "</div>"
      ],
      "text/plain": [
       "   Beer  None  Milk  Diaper  Bread\n",
       "0     0     0     1       0      1\n",
       "1     1     0     0       1      1\n",
       "2     1     0     1       1      0\n",
       "3     0     0     1       0      1"
      ]
     },
     "execution_count": 202,
     "metadata": {},
     "output_type": "execute_result"
    }
   ],
   "source": [
    "# Run Eclat\n",
    "eclat = ECLAT(data=transactions)\n",
    "#Binarizing Data Frame\n",
    "eclat.df_bin"
   ]
  },
  {
   "cell_type": "code",
   "execution_count": 203,
   "id": "8c472fbc-a835-4236-b992-50f2e03516b8",
   "metadata": {},
   "outputs": [
    {
     "data": {
      "text/plain": [
       "0    2\n",
       "1    3\n",
       "2    3\n",
       "3    2\n",
       "dtype: int64"
      ]
     },
     "execution_count": 203,
     "metadata": {},
     "output_type": "execute_result"
    }
   ],
   "source": [
    "# count items in each column\n",
    "items_total = eclat.df_bin.astype(int).sum(axis=0)\n",
    "items_total\n",
    "\n",
    "# count items in each row\n",
    "items_per_transaction = eclat.df_bin.astype(int).sum(axis=1)\n",
    "items_per_transaction"
   ]
  },
  {
   "cell_type": "code",
   "execution_count": 204,
   "id": "417e24d0-6555-4427-b008-de66559c500e",
   "metadata": {},
   "outputs": [
    {
     "data": {
      "text/html": [
       "<style type=\"text/css\">\n",
       "#T_d6cd8_row0_col1, #T_d6cd8_row1_col1 {\n",
       "  background-color: #08306b;\n",
       "  color: #f1f1f1;\n",
       "}\n",
       "#T_d6cd8_row2_col1, #T_d6cd8_row3_col1 {\n",
       "  background-color: #3787c0;\n",
       "  color: #f1f1f1;\n",
       "}\n",
       "#T_d6cd8_row4_col1 {\n",
       "  background-color: #f7fbff;\n",
       "  color: #000000;\n",
       "}\n",
       "</style>\n",
       "<table id=\"T_d6cd8\">\n",
       "  <thead>\n",
       "    <tr>\n",
       "      <th class=\"blank level0\" >&nbsp;</th>\n",
       "      <th id=\"T_d6cd8_level0_col0\" class=\"col_heading level0 col0\" >items</th>\n",
       "      <th id=\"T_d6cd8_level0_col1\" class=\"col_heading level0 col1\" >transactions</th>\n",
       "    </tr>\n",
       "  </thead>\n",
       "  <tbody>\n",
       "    <tr>\n",
       "      <th id=\"T_d6cd8_level0_row0\" class=\"row_heading level0 row0\" >2</th>\n",
       "      <td id=\"T_d6cd8_row0_col0\" class=\"data row0 col0\" >Milk</td>\n",
       "      <td id=\"T_d6cd8_row0_col1\" class=\"data row0 col1\" >3</td>\n",
       "    </tr>\n",
       "    <tr>\n",
       "      <th id=\"T_d6cd8_level0_row1\" class=\"row_heading level0 row1\" >4</th>\n",
       "      <td id=\"T_d6cd8_row1_col0\" class=\"data row1 col0\" >Bread</td>\n",
       "      <td id=\"T_d6cd8_row1_col1\" class=\"data row1 col1\" >3</td>\n",
       "    </tr>\n",
       "    <tr>\n",
       "      <th id=\"T_d6cd8_level0_row2\" class=\"row_heading level0 row2\" >0</th>\n",
       "      <td id=\"T_d6cd8_row2_col0\" class=\"data row2 col0\" >Beer</td>\n",
       "      <td id=\"T_d6cd8_row2_col1\" class=\"data row2 col1\" >2</td>\n",
       "    </tr>\n",
       "    <tr>\n",
       "      <th id=\"T_d6cd8_level0_row3\" class=\"row_heading level0 row3\" >3</th>\n",
       "      <td id=\"T_d6cd8_row3_col0\" class=\"data row3 col0\" >Diaper</td>\n",
       "      <td id=\"T_d6cd8_row3_col1\" class=\"data row3 col1\" >2</td>\n",
       "    </tr>\n",
       "    <tr>\n",
       "      <th id=\"T_d6cd8_level0_row4\" class=\"row_heading level0 row4\" >1</th>\n",
       "      <td id=\"T_d6cd8_row4_col0\" class=\"data row4 col0\" >None</td>\n",
       "      <td id=\"T_d6cd8_row4_col1\" class=\"data row4 col1\" >0</td>\n",
       "    </tr>\n",
       "  </tbody>\n",
       "</table>\n"
      ],
      "text/plain": [
       "<pandas.io.formats.style.Styler at 0x22b05bb0c10>"
      ]
     },
     "execution_count": 204,
     "metadata": {},
     "output_type": "execute_result"
    }
   ],
   "source": [
    "# Loading items per column stats to the DataFrame\n",
    "df = pd.DataFrame({'items': items_total.index, 'transactions': items_total.values}) \n",
    "# cloning pandas DataFrame for visualization purpose  \n",
    "df_table = df.sort_values(\"transactions\", ascending=False)\n",
    "#  Top 5 most popular products/items\n",
    "df_table.head(5).style.background_gradient(cmap='Blues')"
   ]
  },
  {
   "cell_type": "code",
   "execution_count": 205,
   "id": "5df81844-641c-4597-af3a-4caad694b2d3",
   "metadata": {},
   "outputs": [],
   "source": [
    "# to have a same origin\n",
    "df_table[\"all\"] = \"Tree Map\" "
   ]
  },
  {
   "cell_type": "code",
   "execution_count": 206,
   "id": "9d973c24-7cba-42f1-8432-916f3736c465",
   "metadata": {},
   "outputs": [
    {
     "name": "stdout",
     "output_type": "stream",
     "text": [
      "Combination 2 by 2\n"
     ]
    },
    {
     "name": "stderr",
     "output_type": "stream",
     "text": [
      "6it [00:00, 96.98it/s]\n"
     ]
    },
    {
     "name": "stdout",
     "output_type": "stream",
     "text": [
      "Combination 3 by 3\n"
     ]
    },
    {
     "name": "stderr",
     "output_type": "stream",
     "text": [
      "4it [00:00, 87.88it/s]\n"
     ]
    }
   ],
   "source": [
    "# the item shoud appear at least at 5% of transactions\n",
    "min_support = 5/100\n",
    "# start from transactions containing at least 2 items\n",
    "min_combination = 2\n",
    "# up to maximum items per transaction\n",
    "max_combination = max(items_per_transaction)\n",
    "rule_indices, rule_supports = eclat.fit(min_support=min_support,\n",
    "                                                 min_combination=min_combination,\n",
    "                                                 max_combination=max_combination,\n",
    "                                                 separator=' & ',\n",
    "                                                 verbose=True)"
   ]
  },
  {
   "cell_type": "code",
   "execution_count": 207,
   "id": "d35a5a9a-d79e-421e-9a64-0d1c0db43724",
   "metadata": {
    "scrolled": true
   },
   "outputs": [
    {
     "data": {
      "text/html": [
       "<div>\n",
       "<style scoped>\n",
       "    .dataframe tbody tr th:only-of-type {\n",
       "        vertical-align: middle;\n",
       "    }\n",
       "\n",
       "    .dataframe tbody tr th {\n",
       "        vertical-align: top;\n",
       "    }\n",
       "\n",
       "    .dataframe thead th {\n",
       "        text-align: right;\n",
       "    }\n",
       "</style>\n",
       "<table border=\"1\" class=\"dataframe\">\n",
       "  <thead>\n",
       "    <tr style=\"text-align: right;\">\n",
       "      <th></th>\n",
       "      <th>Item</th>\n",
       "      <th>Support</th>\n",
       "    </tr>\n",
       "  </thead>\n",
       "  <tbody>\n",
       "    <tr>\n",
       "      <th>1</th>\n",
       "      <td>Beer &amp; Diaper</td>\n",
       "      <td>0.50</td>\n",
       "    </tr>\n",
       "    <tr>\n",
       "      <th>4</th>\n",
       "      <td>Milk &amp; Bread</td>\n",
       "      <td>0.50</td>\n",
       "    </tr>\n",
       "    <tr>\n",
       "      <th>2</th>\n",
       "      <td>Beer &amp; Bread</td>\n",
       "      <td>0.25</td>\n",
       "    </tr>\n",
       "    <tr>\n",
       "      <th>0</th>\n",
       "      <td>Beer &amp; Milk</td>\n",
       "      <td>0.25</td>\n",
       "    </tr>\n",
       "    <tr>\n",
       "      <th>3</th>\n",
       "      <td>Milk &amp; Diaper</td>\n",
       "      <td>0.25</td>\n",
       "    </tr>\n",
       "    <tr>\n",
       "      <th>5</th>\n",
       "      <td>Diaper &amp; Bread</td>\n",
       "      <td>0.25</td>\n",
       "    </tr>\n",
       "    <tr>\n",
       "      <th>6</th>\n",
       "      <td>Beer &amp; Milk &amp; Diaper</td>\n",
       "      <td>0.25</td>\n",
       "    </tr>\n",
       "    <tr>\n",
       "      <th>7</th>\n",
       "      <td>Beer &amp; Diaper &amp; Bread</td>\n",
       "      <td>0.25</td>\n",
       "    </tr>\n",
       "  </tbody>\n",
       "</table>\n",
       "</div>"
      ],
      "text/plain": [
       "                    Item  Support\n",
       "1          Beer & Diaper     0.50\n",
       "4           Milk & Bread     0.50\n",
       "2           Beer & Bread     0.25\n",
       "0            Beer & Milk     0.25\n",
       "3          Milk & Diaper     0.25\n",
       "5         Diaper & Bread     0.25\n",
       "6   Beer & Milk & Diaper     0.25\n",
       "7  Beer & Diaper & Bread     0.25"
      ]
     },
     "execution_count": 207,
     "metadata": {},
     "output_type": "execute_result"
    }
   ],
   "source": [
    "result = pd.DataFrame(rule_supports.items(),columns=['Item', 'Support'])\n",
    "result.sort_values(by=['Support'], ascending=False)"
   ]
  },
  {
   "cell_type": "code",
   "execution_count": 219,
   "id": "7346eec6-09ae-4e3e-9c9e-49f8fb6c8f6d",
   "metadata": {},
   "outputs": [],
   "source": [
    "import requests"
   ]
  },
  {
   "cell_type": "code",
   "execution_count": 266,
   "id": "cf83ec23-9d4b-4678-8097-b39159f129d7",
   "metadata": {},
   "outputs": [
    {
     "data": {
      "text/plain": [
       "'{\\n  \"result\": [\\n    {\\n      \"Item\": \"Beer & Diaper\",\\n      \"Support\": 0.5\\n    },\\n    {\\n      \"Item\": \"Milk & Bread\",\\n      \"Support\": 0.5\\n    }\\n  ]\\n}\\n'"
      ]
     },
     "execution_count": 266,
     "metadata": {},
     "output_type": "execute_result"
    }
   ],
   "source": [
    "transactions = [\n",
    "    ['Bread', 'Milk'],\n",
    "    ['Bread', 'Diaper', 'Beer'],\n",
    "    ['Milk', 'Diaper', 'Beer'],\n",
    "    ['Bread', 'Milk']\n",
    "]\n",
    "import json\n",
    "\n",
    "r = requests.post('http://127.0.0.1:5000/predict',data=json.dumps({\"data\":transactions})) #json.dumps(transactions))\n",
    "r.text"
   ]
  },
  {
   "cell_type": "code",
   "execution_count": 246,
   "id": "1bd984ee-797a-4ba4-97de-f4283b2a7d90",
   "metadata": {},
   "outputs": [
    {
     "data": {
      "text/plain": [
       "'{\\n  \"error\": \"415 Unsupported Media Type: Did not attempt to load JSON data because the request Content-Type was not \\'application/json\\'.\"\\n}\\n'"
      ]
     },
     "execution_count": 246,
     "metadata": {},
     "output_type": "execute_result"
    }
   ],
   "source": []
  },
  {
   "cell_type": "code",
   "execution_count": 209,
   "id": "61b0497c-b015-41c6-be40-4c6f5f7f8274",
   "metadata": {
    "scrolled": true
   },
   "outputs": [
    {
     "name": "stdout",
     "output_type": "stream",
     "text": [
      "Collecting flask\n",
      "  Downloading flask-3.1.0-py3-none-any.whl.metadata (2.7 kB)\n",
      "Collecting Werkzeug>=3.1 (from flask)\n",
      "  Using cached werkzeug-3.1.3-py3-none-any.whl.metadata (3.7 kB)\n",
      "Requirement already satisfied: Jinja2>=3.1.2 in d:\\users\\delhi\\miniconda3\\envs\\rl\\lib\\site-packages (from flask) (3.1.5)\n",
      "Collecting itsdangerous>=2.2 (from flask)\n",
      "  Downloading itsdangerous-2.2.0-py3-none-any.whl.metadata (1.9 kB)\n",
      "Requirement already satisfied: click>=8.1.3 in d:\\users\\delhi\\miniconda3\\envs\\rl\\lib\\site-packages (from flask) (8.1.7)\n",
      "Collecting blinker>=1.9 (from flask)\n",
      "  Downloading blinker-1.9.0-py3-none-any.whl.metadata (1.6 kB)\n",
      "Requirement already satisfied: importlib-metadata>=3.6 in d:\\users\\delhi\\miniconda3\\envs\\rl\\lib\\site-packages (from flask) (8.5.0)\n",
      "Requirement already satisfied: colorama in d:\\users\\delhi\\miniconda3\\envs\\rl\\lib\\site-packages (from click>=8.1.3->flask) (0.4.6)\n",
      "Requirement already satisfied: zipp>=3.20 in d:\\users\\delhi\\miniconda3\\envs\\rl\\lib\\site-packages (from importlib-metadata>=3.6->flask) (3.21.0)\n",
      "Requirement already satisfied: MarkupSafe>=2.0 in d:\\users\\delhi\\miniconda3\\envs\\rl\\lib\\site-packages (from Jinja2>=3.1.2->flask) (2.1.3)\n",
      "Downloading flask-3.1.0-py3-none-any.whl (102 kB)\n",
      "Downloading blinker-1.9.0-py3-none-any.whl (8.5 kB)\n",
      "Downloading itsdangerous-2.2.0-py3-none-any.whl (16 kB)\n",
      "Using cached werkzeug-3.1.3-py3-none-any.whl (224 kB)\n",
      "Installing collected packages: Werkzeug, itsdangerous, blinker, flask\n",
      "  Attempting uninstall: Werkzeug\n",
      "    Found existing installation: Werkzeug 3.0.6\n",
      "    Uninstalling Werkzeug-3.0.6:\n",
      "      Successfully uninstalled Werkzeug-3.0.6\n",
      "  Attempting uninstall: blinker\n",
      "    Found existing installation: blinker 1.6.2\n",
      "    Uninstalling blinker-1.6.2:\n",
      "      Successfully uninstalled blinker-1.6.2\n",
      "Successfully installed Werkzeug-3.1.3 blinker-1.9.0 flask-3.1.0 itsdangerous-2.2.0\n"
     ]
    },
    {
     "name": "stderr",
     "output_type": "stream",
     "text": [
      "ERROR: pip's dependency resolver does not currently take into account all the packages that are installed. This behaviour is the source of the following dependency conflicts.\n",
      "tensorboard 2.18.0 requires grpcio>=1.48.2, but you have grpcio 1.42.0 which is incompatible.\n",
      "tensorboard 2.18.0 requires protobuf!=4.24.0,>=3.19.6, but you have protobuf 3.17.2 which is incompatible.\n",
      "tensorboard 2.18.0 requires tensorboard-data-server<0.8.0,>=0.7.0, but you have tensorboard-data-server 0.6.1 which is incompatible.\n",
      "tensorflow-intel 2.18.0 requires protobuf!=4.21.0,!=4.21.1,!=4.21.2,!=4.21.3,!=4.21.4,!=4.21.5,<6.0.0dev,>=3.20.3, but you have protobuf 3.17.2 which is incompatible.\n"
     ]
    }
   ],
   "source": [
    "!pip install flask\n"
   ]
  },
  {
   "cell_type": "code",
   "execution_count": null,
   "id": "0081ccd0-04e9-4977-be72-33af5b45f751",
   "metadata": {},
   "outputs": [],
   "source": []
  }
 ],
 "metadata": {
  "kernelspec": {
   "display_name": "Python 3 (ipykernel)",
   "language": "python",
   "name": "python3"
  },
  "language_info": {
   "codemirror_mode": {
    "name": "ipython",
    "version": 3
   },
   "file_extension": ".py",
   "mimetype": "text/x-python",
   "name": "python",
   "nbconvert_exporter": "python",
   "pygments_lexer": "ipython3",
   "version": "3.9.18"
  }
 },
 "nbformat": 4,
 "nbformat_minor": 5
}
