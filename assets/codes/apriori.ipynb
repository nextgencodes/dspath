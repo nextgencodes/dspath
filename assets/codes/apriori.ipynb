{
 "cells": [
  {
   "cell_type": "code",
   "execution_count": 2,
   "id": "efbbe0a4-76be-4305-a450-42c079a5b4f7",
   "metadata": {},
   "outputs": [],
   "source": [
    "import pandas as pd\n",
    "from mlxtend.preprocessing import TransactionEncoder\n",
    "from mlxtend.frequent_patterns import apriori, association_rules"
   ]
  },
  {
   "cell_type": "code",
   "execution_count": 3,
   "id": "64545521-671e-439f-b17c-e0a38e90089f",
   "metadata": {},
   "outputs": [],
   "source": [
    "# Sample data\n",
    "dataset = [['Milk', 'Bread', 'Eggs'],\n",
    "           ['Milk', 'Bread'],\n",
    "           ['Eggs', 'Bread', 'Butter'],\n",
    "           ['Milk', 'Bread', 'Butter'],\n",
    "           ['Milk', 'Butter']]"
   ]
  },
  {
   "cell_type": "code",
   "execution_count": 4,
   "id": "403c4825-0729-4421-b102-5687066406eb",
   "metadata": {},
   "outputs": [],
   "source": [
    "# Convert data into correct format\n",
    "te = TransactionEncoder()\n",
    "te_ary = te.fit(dataset).transform(dataset)\n",
    "df = pd.DataFrame(te_ary, columns=te.columns_)"
   ]
  },
  {
   "cell_type": "code",
   "execution_count": 6,
   "id": "5811f895-f32f-460a-af90-8e20b4b591a0",
   "metadata": {},
   "outputs": [],
   "source": [
    "# Find frequent itemsets\n",
    "frequent_itemsets = apriori(df, min_support=0.4, use_colnames=True)\n",
    "\n",
    "# Generate association rules\n",
    "rules = association_rules(frequent_itemsets, metric=\"confidence\", min_threshold=0.6, num_itemsets=2)"
   ]
  },
  {
   "cell_type": "code",
   "execution_count": 7,
   "id": "79246855-9cef-4ac0-94ab-d6a04eafa7b7",
   "metadata": {},
   "outputs": [
    {
     "name": "stdout",
     "output_type": "stream",
     "text": [
      "Frequent Itemsets:\n",
      "    support         itemsets\n",
      "0      0.8          (Bread)\n",
      "1      0.6         (Butter)\n",
      "2      0.4           (Eggs)\n",
      "3      0.8           (Milk)\n",
      "4      0.4  (Bread, Butter)\n",
      "5      0.4    (Bread, Eggs)\n",
      "6      0.6    (Bread, Milk)\n",
      "7      0.4   (Milk, Butter)\n",
      "\n",
      "Association Rules:\n",
      "   antecedents consequents  antecedent support  consequent support  support  \\\n",
      "0    (Butter)     (Bread)                 0.6                 0.8      0.4   \n",
      "1      (Eggs)     (Bread)                 0.4                 0.8      0.4   \n",
      "2     (Bread)      (Milk)                 0.8                 0.8      0.6   \n",
      "3      (Milk)     (Bread)                 0.8                 0.8      0.6   \n",
      "4    (Butter)      (Milk)                 0.6                 0.8      0.4   \n",
      "\n",
      "   confidence      lift  representativity  leverage  conviction  \\\n",
      "0    0.666667  0.833333               1.0     -0.08         0.6   \n",
      "1    1.000000  1.250000               1.0      0.08         inf   \n",
      "2    0.750000  0.937500               1.0     -0.04         0.8   \n",
      "3    0.750000  0.937500               1.0     -0.04         0.8   \n",
      "4    0.666667  0.833333               1.0     -0.08         0.6   \n",
      "\n",
      "   zhangs_metric  jaccard  certainty  kulczynski  \n",
      "0      -0.333333      0.4  -0.666667    0.583333  \n",
      "1       0.333333      0.5   1.000000    0.750000  \n",
      "2      -0.250000      0.6  -0.250000    0.750000  \n",
      "3      -0.250000      0.6  -0.250000    0.750000  \n",
      "4      -0.333333      0.4  -0.666667    0.583333  \n"
     ]
    }
   ],
   "source": [
    "# Print results\n",
    "print(\"Frequent Itemsets:\\n\", frequent_itemsets)\n",
    "print(\"\\nAssociation Rules:\\n\", rules)"
   ]
  },
  {
   "cell_type": "code",
   "execution_count": 8,
   "id": "29d9ce80-3bfb-4010-8ff9-18bfad099ad6",
   "metadata": {
    "scrolled": true
   },
   "outputs": [
    {
     "name": "stdout",
     "output_type": "stream",
     "text": [
      "\n",
      "Loaded Frequent Itemsets:\n",
      "    support                        itemsets\n",
      "0      0.8            frozenset({'Bread'})\n",
      "1      0.6           frozenset({'Butter'})\n",
      "2      0.4             frozenset({'Eggs'})\n",
      "3      0.8             frozenset({'Milk'})\n",
      "4      0.4  frozenset({'Bread', 'Butter'})\n",
      "5      0.4    frozenset({'Bread', 'Eggs'})\n",
      "6      0.6    frozenset({'Bread', 'Milk'})\n",
      "7      0.4   frozenset({'Milk', 'Butter'})\n",
      "\n",
      "Loaded Association Rules:\n",
      "              antecedents           consequents  antecedent support  \\\n",
      "0  frozenset({'Butter'})  frozenset({'Bread'})                 0.6   \n",
      "1    frozenset({'Eggs'})  frozenset({'Bread'})                 0.4   \n",
      "2   frozenset({'Bread'})   frozenset({'Milk'})                 0.8   \n",
      "3    frozenset({'Milk'})  frozenset({'Bread'})                 0.8   \n",
      "4  frozenset({'Butter'})   frozenset({'Milk'})                 0.6   \n",
      "\n",
      "   consequent support  support  confidence      lift  representativity  \\\n",
      "0                 0.8      0.4    0.666667  0.833333               1.0   \n",
      "1                 0.8      0.4    1.000000  1.250000               1.0   \n",
      "2                 0.8      0.6    0.750000  0.937500               1.0   \n",
      "3                 0.8      0.6    0.750000  0.937500               1.0   \n",
      "4                 0.8      0.4    0.666667  0.833333               1.0   \n",
      "\n",
      "   leverage  conviction  zhangs_metric  jaccard  certainty  kulczynski  \n",
      "0     -0.08         0.6      -0.333333      0.4  -0.666667    0.583333  \n",
      "1      0.08         inf       0.333333      0.5   1.000000    0.750000  \n",
      "2     -0.04         0.8      -0.250000      0.6  -0.250000    0.750000  \n",
      "3     -0.04         0.8      -0.250000      0.6  -0.250000    0.750000  \n",
      "4     -0.08         0.6      -0.333333      0.4  -0.666667    0.583333  \n"
     ]
    }
   ],
   "source": [
    "# Save and load\n",
    "frequent_itemsets.to_csv('frequent_itemsets.csv', index=False)\n",
    "rules.to_csv('association_rules.csv', index=False)\n",
    "\n",
    "loaded_frequent_itemsets = pd.read_csv('frequent_itemsets.csv')\n",
    "loaded_rules = pd.read_csv('association_rules.csv')\n",
    "\n",
    "print(\"\\nLoaded Frequent Itemsets:\\n\", loaded_frequent_itemsets)\n",
    "print(\"\\nLoaded Association Rules:\\n\", loaded_rules)"
   ]
  },
  {
   "cell_type": "markdown",
   "id": "fd375c3c-c796-4ae3-ba59-509418396c5e",
   "metadata": {},
   "source": [
    "## Hyperparameter tuning"
   ]
  },
  {
   "cell_type": "code",
   "execution_count": 9,
   "id": "22062219-6687-4082-8a46-c3adc0094662",
   "metadata": {},
   "outputs": [
    {
     "name": "stdout",
     "output_type": "stream",
     "text": [
      "Frequent Itemsets with min_support = 0.2:\n",
      "     support               itemsets\n",
      "0       0.8                (Bread)\n",
      "1       0.6               (Butter)\n",
      "2       0.4                 (Eggs)\n",
      "3       0.8                 (Milk)\n",
      "4       0.4        (Bread, Butter)\n",
      "5       0.4          (Bread, Eggs)\n",
      "6       0.6          (Bread, Milk)\n",
      "7       0.2         (Butter, Eggs)\n",
      "8       0.4         (Milk, Butter)\n",
      "9       0.2           (Milk, Eggs)\n",
      "10      0.2  (Bread, Butter, Eggs)\n",
      "11      0.2  (Bread, Milk, Butter)\n",
      "12      0.2    (Bread, Milk, Eggs)\n",
      "Frequent Itemsets with min_support = 0.4:\n",
      "    support         itemsets\n",
      "0      0.8          (Bread)\n",
      "1      0.6         (Butter)\n",
      "2      0.4           (Eggs)\n",
      "3      0.8           (Milk)\n",
      "4      0.4  (Bread, Butter)\n",
      "5      0.4    (Bread, Eggs)\n",
      "6      0.6    (Bread, Milk)\n",
      "7      0.4   (Milk, Butter)\n",
      "Frequent Itemsets with min_support = 0.6:\n",
      "    support       itemsets\n",
      "0      0.8        (Bread)\n",
      "1      0.6       (Butter)\n",
      "2      0.8         (Milk)\n",
      "3      0.6  (Bread, Milk)\n"
     ]
    }
   ],
   "source": [
    "import pandas as pd\n",
    "from mlxtend.preprocessing import TransactionEncoder\n",
    "from mlxtend.frequent_patterns import apriori, association_rules\n",
    "\n",
    "# Sample data\n",
    "dataset = [['Milk', 'Bread', 'Eggs'],\n",
    "           ['Milk', 'Bread'],\n",
    "           ['Eggs', 'Bread', 'Butter'],\n",
    "           ['Milk', 'Bread', 'Butter'],\n",
    "           ['Milk', 'Butter']]\n",
    "\n",
    "# Convert data into correct format\n",
    "te = TransactionEncoder()\n",
    "te_ary = te.fit(dataset).transform(dataset)\n",
    "df = pd.DataFrame(te_ary, columns=te.columns_)\n",
    "\n",
    "# Explore effect of min_support\n",
    "min_supports = [0.2, 0.4, 0.6]\n",
    "\n",
    "for min_support in min_supports:\n",
    "  # Find frequent itemsets\n",
    "  frequent_itemsets = apriori(df, min_support=min_support, use_colnames=True)\n",
    "  print(f\"Frequent Itemsets with min_support = {min_support}:\\n\", frequent_itemsets)"
   ]
  },
  {
   "cell_type": "code",
   "execution_count": null,
   "id": "2f5af289-461b-407c-8e45-8320174b6409",
   "metadata": {},
   "outputs": [],
   "source": []
  }
 ],
 "metadata": {
  "kernelspec": {
   "display_name": "Python 3 (ipykernel)",
   "language": "python",
   "name": "python3"
  },
  "language_info": {
   "codemirror_mode": {
    "name": "ipython",
    "version": 3
   },
   "file_extension": ".py",
   "mimetype": "text/x-python",
   "name": "python",
   "nbconvert_exporter": "python",
   "pygments_lexer": "ipython3",
   "version": "3.9.18"
  }
 },
 "nbformat": 4,
 "nbformat_minor": 5
}
